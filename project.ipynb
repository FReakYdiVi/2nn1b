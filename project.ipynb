{
 "cells": [
  {
   "cell_type": "code",
   "execution_count": null,
   "metadata": {},
   "outputs": [],
   "source": []
  }
 ],
 "metadata": {
  "kernelspec": {
   "display_name": "ai",
   "language": "python",
   "name": "python3"
  },
  "language_info": {
   "name": "python",
   "version": "3.10.0 (default, Mar  3 2022, 03:57:21) [Clang 12.0.0 ]"
  },
  "orig_nbformat": 4,
  "vscode": {
   "interpreter": {
    "hash": "def5c8e2fd7823319a9abef63bb08ab48a3edd652234017d9a2ad3c2c79bcee8"
   }
  }
 },
 "nbformat": 4,
 "nbformat_minor": 2
}
